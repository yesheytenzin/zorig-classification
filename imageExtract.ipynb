{
 "cells": [
  {
   "cell_type": "markdown",
   "metadata": {},
   "source": [
    "# web scrapping for images\n",
    "-- credits: https://medium.com/towards-data-science/image-scraping-with-python-a96feda8af2d"
   ]
  },
  {
   "cell_type": "markdown",
   "metadata": {},
   "source": [
    "# step 1: install dependencies\n",
    "-- selenium used to automate web browser, get images and source then download"
   ]
  },
  {
   "cell_type": "code",
   "execution_count": 3,
   "metadata": {},
   "outputs": [
    {
     "name": "stdout",
     "output_type": "stream",
     "text": [
      "Requirement already satisfied: Pillow in /home/yeshey/anaconda3/lib/python3.12/site-packages (10.4.0)\n",
      "Requirement already satisfied: requests in /home/yeshey/anaconda3/lib/python3.12/site-packages (2.32.3)\n",
      "Requirement already satisfied: selenium in /home/yeshey/anaconda3/lib/python3.12/site-packages (4.28.1)\n",
      "Requirement already satisfied: charset-normalizer<4,>=2 in /home/yeshey/anaconda3/lib/python3.12/site-packages (from requests) (3.3.2)\n",
      "Requirement already satisfied: idna<4,>=2.5 in /home/yeshey/anaconda3/lib/python3.12/site-packages (from requests) (3.7)\n",
      "Requirement already satisfied: urllib3<3,>=1.21.1 in /home/yeshey/anaconda3/lib/python3.12/site-packages (from requests) (2.2.3)\n",
      "Requirement already satisfied: certifi>=2017.4.17 in /home/yeshey/anaconda3/lib/python3.12/site-packages (from requests) (2024.8.30)\n",
      "Requirement already satisfied: trio~=0.17 in /home/yeshey/anaconda3/lib/python3.12/site-packages (from selenium) (0.28.0)\n",
      "Requirement already satisfied: trio-websocket~=0.9 in /home/yeshey/anaconda3/lib/python3.12/site-packages (from selenium) (0.11.1)\n",
      "Requirement already satisfied: typing_extensions~=4.9 in /home/yeshey/anaconda3/lib/python3.12/site-packages (from selenium) (4.11.0)\n",
      "Requirement already satisfied: websocket-client~=1.8 in /home/yeshey/anaconda3/lib/python3.12/site-packages (from selenium) (1.8.0)\n",
      "Requirement already satisfied: attrs>=23.2.0 in /home/yeshey/anaconda3/lib/python3.12/site-packages (from trio~=0.17->selenium) (25.1.0)\n",
      "Requirement already satisfied: sortedcontainers in /home/yeshey/anaconda3/lib/python3.12/site-packages (from trio~=0.17->selenium) (2.4.0)\n",
      "Requirement already satisfied: outcome in /home/yeshey/anaconda3/lib/python3.12/site-packages (from trio~=0.17->selenium) (1.3.0.post0)\n",
      "Requirement already satisfied: sniffio>=1.3.0 in /home/yeshey/anaconda3/lib/python3.12/site-packages (from trio~=0.17->selenium) (1.3.0)\n",
      "Requirement already satisfied: wsproto>=0.14 in /home/yeshey/anaconda3/lib/python3.12/site-packages (from trio-websocket~=0.9->selenium) (1.2.0)\n",
      "Requirement already satisfied: pysocks!=1.5.7,<2.0,>=1.5.6 in /home/yeshey/anaconda3/lib/python3.12/site-packages (from urllib3[socks]<3,>=1.26->selenium) (1.7.1)\n",
      "Requirement already satisfied: h11<1,>=0.9.0 in /home/yeshey/anaconda3/lib/python3.12/site-packages (from wsproto>=0.14->trio-websocket~=0.9->selenium) (0.14.0)\n",
      "Note: you may need to restart the kernel to use updated packages.\n"
     ]
    }
   ],
   "source": [
    "%pip install Pillow requests selenium"
   ]
  },
  {
   "cell_type": "code",
   "execution_count": null,
   "metadata": {},
   "outputs": [],
   "source": [
    "import time\n",
    "from selenium import webdriver\n",
    "from selenium.webdriver.firefox.service import Service\n",
    "import requests\n",
    "import io\n",
    "from PIL import Image\n",
    "from selenium.webdriver.common.by import By\n",
    "\n",
    "path = '/home/yeshey/Desktop/projects/zorig-classification/geckodriver'  # Ensure correct path\n",
    "\n",
    "service = Service(path)\n",
    "wd = webdriver.Firefox(service=service)\n",
    "\n",
    "def get_images(wd,delay,max_images):\n",
    "    def scroll_down(wd):\n",
    "        wd.execute_script(\"window.scrollTo(0,document.body.scrollHeight);\")\n",
    "        time.sleep(delay)\n",
    "\n",
    "    url = \"https://www.google.com/search?q=shingzo+carpentry&sca_esv=aac09e88d3bc5d88&gl=us&sxsrf=AHTn8zqg3qyxA8zM0HcfPw4eWnirHKrleg:1739023299550&source=hp&biw=1600&bih=777&ei=w2OnZ46JH9rcvr0PxZSamAw&iflsig=ACkRmUkAAAAAZ6dx04dwBxga3KhnqFFYREWfUbdaDikn&oq=shi&gs_lp=EgNpbWciA3NoaSoCCAAyBBAjGCcyBBAjGCcyCxAAGIAEGLEDGIMBMgUQABiABDIFEAAYgAQyCxAAGIAEGLEDGIMBMgUQABiABDIFEAAYgAQyCxAAGIAEGLEDGIMBMgUQABiABEiQE1CWBVjcB3ABeACQAQCYAXWgAdgCqgEDMC4zuAEByAEA-AEBigILZ3dzLXdpei1pbWeYAgSgAvUCqAIKwgIHECMYJxjqAsICCBAAGIAEGLEDwgILEAAYgAQYsQMYigWYAwWSBwMxLjOgB5AX&sclient=img&udm=2\"\n",
    "\n",
    "    wd.get(url)\n",
    "    image_urls = set()\n",
    "\n",
    "    while len(image_urls) < max_images:\n",
    "        scroll_down(wd)\n",
    "        thumnails = wd.find_elements(By.CLASS_NAME,\"YQ4gaf\")\n",
    "\n",
    "        for img in thumnails[len(image_urls):max_images]:\n",
    "            try:\n",
    "                img.click()\n",
    "                time.sleep(delay)\n",
    "            except:\n",
    "                continue\n",
    "\n",
    "            images = wd.find_elements(By.CLASS_NAME,\"sFlh5c FyHeAf\")\n",
    "            for image in images:\n",
    "                if image.get_atribute('src') and 'http' in image.get_atribute('src'):\n",
    "                    image_urls.add(image.get_atributes('src'))\n",
    "                    print(f\"found image! {len(image_urls)}\")\n",
    "\n",
    "    return image_urls\n",
    "\n",
    "\n",
    "def downloads_image(download_path, url, filename):\n",
    "    try:\n",
    "        image_content = requests.get(url).content\n",
    "        image_file = io.BytesIO(image_content)\n",
    "        image = Image.open(image_file)\n",
    "        file_path = download_path + filename\n",
    "\n",
    "        with open(file_path,\"wb\") as f:\n",
    "            image.save(f,'JPEG')\n",
    "\n",
    "        print(\"success\")\n",
    "    except Exception as e:\n",
    "        print(\"failed - \",e)\n",
    "\n",
    "urls = get_images(wd,1,5)\n",
    "print(urls)\n",
    "wd.quit()"
   ]
  }
 ],
 "metadata": {
  "kernelspec": {
   "display_name": "base",
   "language": "python",
   "name": "python3"
  },
  "language_info": {
   "codemirror_mode": {
    "name": "ipython",
    "version": 3
   },
   "file_extension": ".py",
   "mimetype": "text/x-python",
   "name": "python",
   "nbconvert_exporter": "python",
   "pygments_lexer": "ipython3",
   "version": "3.12.7"
  }
 },
 "nbformat": 4,
 "nbformat_minor": 2
}
