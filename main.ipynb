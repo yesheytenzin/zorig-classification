{
 "cells": [
  {
   "cell_type": "markdown",
   "metadata": {},
   "source": [
    "# install libraries"
   ]
  },
  {
   "cell_type": "code",
   "execution_count": 1,
   "metadata": {},
   "outputs": [
    {
     "name": "stdout",
     "output_type": "stream",
     "text": [
      "Requirement already satisfied: tensorflow[and-cuda] in /home/yeshey/anaconda3/lib/python3.12/site-packages (2.18.0)\n",
      "Requirement already satisfied: absl-py>=1.0.0 in /home/yeshey/anaconda3/lib/python3.12/site-packages (from tensorflow[and-cuda]) (2.1.0)\n",
      "Requirement already satisfied: astunparse>=1.6.0 in /home/yeshey/anaconda3/lib/python3.12/site-packages (from tensorflow[and-cuda]) (1.6.3)\n",
      "Requirement already satisfied: flatbuffers>=24.3.25 in /home/yeshey/anaconda3/lib/python3.12/site-packages (from tensorflow[and-cuda]) (25.1.24)\n",
      "Requirement already satisfied: gast!=0.5.0,!=0.5.1,!=0.5.2,>=0.2.1 in /home/yeshey/anaconda3/lib/python3.12/site-packages (from tensorflow[and-cuda]) (0.6.0)\n",
      "Requirement already satisfied: google-pasta>=0.1.1 in /home/yeshey/anaconda3/lib/python3.12/site-packages (from tensorflow[and-cuda]) (0.2.0)\n",
      "Requirement already satisfied: libclang>=13.0.0 in /home/yeshey/anaconda3/lib/python3.12/site-packages (from tensorflow[and-cuda]) (18.1.1)\n",
      "Requirement already satisfied: opt-einsum>=2.3.2 in /home/yeshey/anaconda3/lib/python3.12/site-packages (from tensorflow[and-cuda]) (3.4.0)\n",
      "Requirement already satisfied: packaging in /home/yeshey/anaconda3/lib/python3.12/site-packages (from tensorflow[and-cuda]) (24.1)\n",
      "Requirement already satisfied: protobuf!=4.21.0,!=4.21.1,!=4.21.2,!=4.21.3,!=4.21.4,!=4.21.5,<6.0.0dev,>=3.20.3 in /home/yeshey/anaconda3/lib/python3.12/site-packages (from tensorflow[and-cuda]) (4.25.3)\n",
      "Requirement already satisfied: requests<3,>=2.21.0 in /home/yeshey/anaconda3/lib/python3.12/site-packages (from tensorflow[and-cuda]) (2.32.3)\n",
      "Requirement already satisfied: setuptools in /home/yeshey/anaconda3/lib/python3.12/site-packages (from tensorflow[and-cuda]) (75.1.0)\n",
      "Requirement already satisfied: six>=1.12.0 in /home/yeshey/anaconda3/lib/python3.12/site-packages (from tensorflow[and-cuda]) (1.16.0)\n",
      "Requirement already satisfied: termcolor>=1.1.0 in /home/yeshey/anaconda3/lib/python3.12/site-packages (from tensorflow[and-cuda]) (2.5.0)\n",
      "Requirement already satisfied: typing-extensions>=3.6.6 in /home/yeshey/anaconda3/lib/python3.12/site-packages (from tensorflow[and-cuda]) (4.11.0)\n",
      "Requirement already satisfied: wrapt>=1.11.0 in /home/yeshey/anaconda3/lib/python3.12/site-packages (from tensorflow[and-cuda]) (1.14.1)\n",
      "Requirement already satisfied: grpcio<2.0,>=1.24.3 in /home/yeshey/anaconda3/lib/python3.12/site-packages (from tensorflow[and-cuda]) (1.70.0)\n",
      "Requirement already satisfied: tensorboard<2.19,>=2.18 in /home/yeshey/anaconda3/lib/python3.12/site-packages (from tensorflow[and-cuda]) (2.18.0)\n",
      "Requirement already satisfied: keras>=3.5.0 in /home/yeshey/anaconda3/lib/python3.12/site-packages (from tensorflow[and-cuda]) (3.8.0)\n",
      "Requirement already satisfied: numpy<2.1.0,>=1.26.0 in /home/yeshey/anaconda3/lib/python3.12/site-packages (from tensorflow[and-cuda]) (1.26.4)\n",
      "Requirement already satisfied: h5py>=3.11.0 in /home/yeshey/anaconda3/lib/python3.12/site-packages (from tensorflow[and-cuda]) (3.11.0)\n",
      "Requirement already satisfied: ml-dtypes<0.5.0,>=0.4.0 in /home/yeshey/anaconda3/lib/python3.12/site-packages (from tensorflow[and-cuda]) (0.4.1)\n",
      "Requirement already satisfied: nvidia-cublas-cu12==12.5.3.2 in /home/yeshey/anaconda3/lib/python3.12/site-packages (from tensorflow[and-cuda]) (12.5.3.2)\n",
      "Requirement already satisfied: nvidia-cuda-cupti-cu12==12.5.82 in /home/yeshey/anaconda3/lib/python3.12/site-packages (from tensorflow[and-cuda]) (12.5.82)\n",
      "Requirement already satisfied: nvidia-cuda-nvcc-cu12==12.5.82 in /home/yeshey/anaconda3/lib/python3.12/site-packages (from tensorflow[and-cuda]) (12.5.82)\n",
      "Requirement already satisfied: nvidia-cuda-nvrtc-cu12==12.5.82 in /home/yeshey/anaconda3/lib/python3.12/site-packages (from tensorflow[and-cuda]) (12.5.82)\n",
      "Requirement already satisfied: nvidia-cuda-runtime-cu12==12.5.82 in /home/yeshey/anaconda3/lib/python3.12/site-packages (from tensorflow[and-cuda]) (12.5.82)\n",
      "Requirement already satisfied: nvidia-cudnn-cu12==9.3.0.75 in /home/yeshey/anaconda3/lib/python3.12/site-packages (from tensorflow[and-cuda]) (9.3.0.75)\n",
      "Requirement already satisfied: nvidia-cufft-cu12==11.2.3.61 in /home/yeshey/anaconda3/lib/python3.12/site-packages (from tensorflow[and-cuda]) (11.2.3.61)\n",
      "Requirement already satisfied: nvidia-curand-cu12==10.3.6.82 in /home/yeshey/anaconda3/lib/python3.12/site-packages (from tensorflow[and-cuda]) (10.3.6.82)\n",
      "Requirement already satisfied: nvidia-cusolver-cu12==11.6.3.83 in /home/yeshey/anaconda3/lib/python3.12/site-packages (from tensorflow[and-cuda]) (11.6.3.83)\n",
      "Requirement already satisfied: nvidia-cusparse-cu12==12.5.1.3 in /home/yeshey/anaconda3/lib/python3.12/site-packages (from tensorflow[and-cuda]) (12.5.1.3)\n",
      "Requirement already satisfied: nvidia-nccl-cu12==2.21.5 in /home/yeshey/anaconda3/lib/python3.12/site-packages (from tensorflow[and-cuda]) (2.21.5)\n",
      "Requirement already satisfied: nvidia-nvjitlink-cu12==12.5.82 in /home/yeshey/anaconda3/lib/python3.12/site-packages (from tensorflow[and-cuda]) (12.5.82)\n",
      "Requirement already satisfied: wheel<1.0,>=0.23.0 in /home/yeshey/anaconda3/lib/python3.12/site-packages (from astunparse>=1.6.0->tensorflow[and-cuda]) (0.44.0)\n",
      "Requirement already satisfied: rich in /home/yeshey/anaconda3/lib/python3.12/site-packages (from keras>=3.5.0->tensorflow[and-cuda]) (13.7.1)\n",
      "Requirement already satisfied: namex in /home/yeshey/anaconda3/lib/python3.12/site-packages (from keras>=3.5.0->tensorflow[and-cuda]) (0.0.8)\n",
      "Requirement already satisfied: optree in /home/yeshey/anaconda3/lib/python3.12/site-packages (from keras>=3.5.0->tensorflow[and-cuda]) (0.14.0)\n",
      "Requirement already satisfied: charset-normalizer<4,>=2 in /home/yeshey/anaconda3/lib/python3.12/site-packages (from requests<3,>=2.21.0->tensorflow[and-cuda]) (3.3.2)\n",
      "Requirement already satisfied: idna<4,>=2.5 in /home/yeshey/anaconda3/lib/python3.12/site-packages (from requests<3,>=2.21.0->tensorflow[and-cuda]) (3.7)\n",
      "Requirement already satisfied: urllib3<3,>=1.21.1 in /home/yeshey/anaconda3/lib/python3.12/site-packages (from requests<3,>=2.21.0->tensorflow[and-cuda]) (2.2.3)\n",
      "Requirement already satisfied: certifi>=2017.4.17 in /home/yeshey/anaconda3/lib/python3.12/site-packages (from requests<3,>=2.21.0->tensorflow[and-cuda]) (2024.8.30)\n",
      "Requirement already satisfied: markdown>=2.6.8 in /home/yeshey/anaconda3/lib/python3.12/site-packages (from tensorboard<2.19,>=2.18->tensorflow[and-cuda]) (3.4.1)\n",
      "Requirement already satisfied: tensorboard-data-server<0.8.0,>=0.7.0 in /home/yeshey/anaconda3/lib/python3.12/site-packages (from tensorboard<2.19,>=2.18->tensorflow[and-cuda]) (0.7.2)\n",
      "Requirement already satisfied: werkzeug>=1.0.1 in /home/yeshey/anaconda3/lib/python3.12/site-packages (from tensorboard<2.19,>=2.18->tensorflow[and-cuda]) (3.0.3)\n",
      "Requirement already satisfied: MarkupSafe>=2.1.1 in /home/yeshey/anaconda3/lib/python3.12/site-packages (from werkzeug>=1.0.1->tensorboard<2.19,>=2.18->tensorflow[and-cuda]) (2.1.3)\n",
      "Requirement already satisfied: markdown-it-py>=2.2.0 in /home/yeshey/anaconda3/lib/python3.12/site-packages (from rich->keras>=3.5.0->tensorflow[and-cuda]) (2.2.0)\n",
      "Requirement already satisfied: pygments<3.0.0,>=2.13.0 in /home/yeshey/anaconda3/lib/python3.12/site-packages (from rich->keras>=3.5.0->tensorflow[and-cuda]) (2.15.1)\n",
      "Requirement already satisfied: mdurl~=0.1 in /home/yeshey/anaconda3/lib/python3.12/site-packages (from markdown-it-py>=2.2.0->rich->keras>=3.5.0->tensorflow[and-cuda]) (0.1.0)\n",
      "Note: you may need to restart the kernel to use updated packages.\n",
      "Requirement already satisfied: opencv-python in /home/yeshey/anaconda3/lib/python3.12/site-packages (4.11.0.86)\n",
      "Requirement already satisfied: numpy in /home/yeshey/anaconda3/lib/python3.12/site-packages (1.26.4)\n",
      "Requirement already satisfied: pandas in /home/yeshey/anaconda3/lib/python3.12/site-packages (2.2.2)\n",
      "Requirement already satisfied: plotly in /home/yeshey/anaconda3/lib/python3.12/site-packages (5.24.1)\n",
      "Requirement already satisfied: scikit-learn in /home/yeshey/anaconda3/lib/python3.12/site-packages (1.5.1)\n",
      "Requirement already satisfied: matplotlib in /home/yeshey/anaconda3/lib/python3.12/site-packages (3.9.2)\n",
      "Requirement already satisfied: seaborn in /home/yeshey/anaconda3/lib/python3.12/site-packages (0.13.2)\n",
      "Requirement already satisfied: python-dateutil>=2.8.2 in /home/yeshey/anaconda3/lib/python3.12/site-packages (from pandas) (2.9.0.post0)\n",
      "Requirement already satisfied: pytz>=2020.1 in /home/yeshey/anaconda3/lib/python3.12/site-packages (from pandas) (2024.1)\n",
      "Requirement already satisfied: tzdata>=2022.7 in /home/yeshey/anaconda3/lib/python3.12/site-packages (from pandas) (2023.3)\n",
      "Requirement already satisfied: tenacity>=6.2.0 in /home/yeshey/anaconda3/lib/python3.12/site-packages (from plotly) (8.2.3)\n",
      "Requirement already satisfied: packaging in /home/yeshey/anaconda3/lib/python3.12/site-packages (from plotly) (24.1)\n",
      "Requirement already satisfied: scipy>=1.6.0 in /home/yeshey/anaconda3/lib/python3.12/site-packages (from scikit-learn) (1.13.1)\n",
      "Requirement already satisfied: joblib>=1.2.0 in /home/yeshey/anaconda3/lib/python3.12/site-packages (from scikit-learn) (1.4.2)\n",
      "Requirement already satisfied: threadpoolctl>=3.1.0 in /home/yeshey/anaconda3/lib/python3.12/site-packages (from scikit-learn) (3.5.0)\n",
      "Requirement already satisfied: contourpy>=1.0.1 in /home/yeshey/anaconda3/lib/python3.12/site-packages (from matplotlib) (1.2.0)\n",
      "Requirement already satisfied: cycler>=0.10 in /home/yeshey/anaconda3/lib/python3.12/site-packages (from matplotlib) (0.11.0)\n",
      "Requirement already satisfied: fonttools>=4.22.0 in /home/yeshey/anaconda3/lib/python3.12/site-packages (from matplotlib) (4.51.0)\n",
      "Requirement already satisfied: kiwisolver>=1.3.1 in /home/yeshey/anaconda3/lib/python3.12/site-packages (from matplotlib) (1.4.4)\n",
      "Requirement already satisfied: pillow>=8 in /home/yeshey/anaconda3/lib/python3.12/site-packages (from matplotlib) (10.4.0)\n",
      "Requirement already satisfied: pyparsing>=2.3.1 in /home/yeshey/anaconda3/lib/python3.12/site-packages (from matplotlib) (3.1.2)\n",
      "Requirement already satisfied: six>=1.5 in /home/yeshey/anaconda3/lib/python3.12/site-packages (from python-dateutil>=2.8.2->pandas) (1.16.0)\n",
      "Note: you may need to restart the kernel to use updated packages.\n"
     ]
    }
   ],
   "source": [
    "%pip install \"tensorflow[and-cuda]\"\n",
    "%pip install opencv-python numpy pandas plotly scikit-learn matplotlib seaborn\n"
   ]
  },
  {
   "cell_type": "code",
   "execution_count": 2,
   "metadata": {},
   "outputs": [
    {
     "name": "stderr",
     "output_type": "stream",
     "text": [
      "2025-02-09 14:35:27.337896: I tensorflow/core/util/port.cc:153] oneDNN custom operations are on. You may see slightly different numerical results due to floating-point round-off errors from different computation orders. To turn them off, set the environment variable `TF_ENABLE_ONEDNN_OPTS=0`.\n",
      "2025-02-09 14:35:27.347936: E external/local_xla/xla/stream_executor/cuda/cuda_fft.cc:477] Unable to register cuFFT factory: Attempting to register factory for plugin cuFFT when one has already been registered\n",
      "WARNING: All log messages before absl::InitializeLog() is called are written to STDERR\n",
      "E0000 00:00:1739090127.359629   26847 cuda_dnn.cc:8310] Unable to register cuDNN factory: Attempting to register factory for plugin cuDNN when one has already been registered\n",
      "E0000 00:00:1739090127.362987   26847 cuda_blas.cc:1418] Unable to register cuBLAS factory: Attempting to register factory for plugin cuBLAS when one has already been registered\n",
      "2025-02-09 14:35:27.374864: I tensorflow/core/platform/cpu_feature_guard.cc:210] This TensorFlow binary is optimized to use available CPU instructions in performance-critical operations.\n",
      "To enable the following instructions: AVX2 AVX512F AVX512_VNNI FMA, in other operations, rebuild TensorFlow with the appropriate compiler flags.\n"
     ]
    }
   ],
   "source": [
    "import os\n",
    "import cv2\n",
    "import numpy as np\n",
    "import pandas as pd\n",
    "import plotly.express as px\n",
    "import plotly.graph_objects as go\n",
    "import tensorflow as tf\n",
    "from tensorflow.keras.preprocessing.image import ImageDataGenerator\n",
    "from tensorflow.keras.models import Sequential\n",
    "from tensorflow.keras.layers import Conv2D, MaxPooling2D, Flatten, Dense, Dropout\n",
    "from tensorflow.keras.applications import VGG16\n",
    "from tensorflow.keras.optimizers import Adam\n",
    "from sklearn.metrics import classification_report, confusion_matrix\n",
    "import matplotlib.pyplot as plt\n",
    "import seaborn as sns"
   ]
  },
  {
   "cell_type": "code",
   "execution_count": null,
   "metadata": {},
   "outputs": [
    {
     "name": "stdout",
     "output_type": "stream",
     "text": [
      "CUDA available: True\n"
     ]
    }
   ],
   "source": [
    "# Set paths\n",
    "train_path = \"\"\n",
    "test_path = \"\"\n",
    "validation_path = \"\"\n"
   ]
  },
  {
   "cell_type": "code",
   "execution_count": null,
   "metadata": {},
   "outputs": [
    {
     "name": "stdout",
     "output_type": "stream",
     "text": [
      "Num GPUs Available: 1\n",
      "Is TensorFlow using GPU? True\n",
      "Available devices:\n",
      "PhysicalDevice(name='/physical_device:CPU:0', device_type='CPU')\n",
      "PhysicalDevice(name='/physical_device:GPU:0', device_type='GPU')\n"
     ]
    }
   ],
   "source": [
    "Function to load data\n",
    "def load_data(path):\n",
    "    categories = []\n",
    "    images = []\n",
    "    for category in os.listdir(path):\n",
    "        category_path = os.path.join(path, category)\n",
    "        for image in os.listdir(category_path):\n",
    "            img_path = os.path.join(category_path, image)\n",
    "            img = cv2.imread(img_path)\n",
    "            if img is not None:  # Check if the image is loaded correctly\n",
    "                img = cv2.resize(img, (224, 224))  # Resize to 224x224 for VGG16\n",
    "                images.append(img)\n",
    "                categories.append(category)\n",
    "    return np.array(images), np.array(categories)\n",
    "\n",
    "# Load datasets\n",
    "train_images, train_labels = load_data(train_path)\n",
    "test_images, test_labels = load_data(test_path)\n",
    "val_images, val_labels = load_data(validation_path)\n"
   ]
  },
  {
   "cell_type": "code",
   "execution_count": null,
   "metadata": {},
   "outputs": [],
   "source": [
    "\n",
    "\n",
    "# Plot sample images\n",
    "fig = px.imshow(train_images[0])\n",
    "fig.update_layout(title=\"Sample Image from Training Set\")\n",
    "fig.show()\n",
    "\n"
   ]
  },
  {
   "cell_type": "code",
   "execution_count": null,
   "metadata": {},
   "outputs": [],
   "source": [
    "\n",
    "\n",
    "# Data preprocessing\n",
    "train_datagen = ImageDataGenerator(rescale=1./255, rotation_range=40, width_shift_range=0.2,\n",
    "                                   height_shift_range=0.2, shear_range=0.2, zoom_range=0.2,\n",
    "                                   horizontal_flip=True, fill_mode='nearest')\n",
    "\n",
    "test_datagen = ImageDataGenerator(rescale=1./255)\n",
    "\n",
    "train_generator = train_datagen.flow_from_directory(train_path, target_size=(224, 224),\n",
    "                                                    batch_size=32, class_mode='categorical')\n",
    "\n",
    "validation_generator = test_datagen.flow_from_directory(validation_path, target_size=(224, 224),\n",
    "                                                        batch_size=32, class_mode='categorical')\n",
    "\n",
    "test_generator = test_datagen.flow_from_directory(test_path, target_size=(224, 224),\n",
    "                                                  batch_size=32, class_mode='categorical', shuffle=False)\n",
    "\n"
   ]
  },
  {
   "cell_type": "code",
   "execution_count": null,
   "metadata": {},
   "outputs": [],
   "source": [
    "# Load VGG16 model and fine-tune it\n",
    "base_model = VGG16(weights='imagenet', include_top=False, input_shape=(224, 224, 3))\n",
    "base_model.trainable = False\n",
    "\n",
    "model = Sequential([\n",
    "    base_model,\n",
    "    Flatten(),\n",
    "    Dense(512, activation='relu'),\n",
    "    Dropout(0.5),\n",
    "    Dense(36, activation='softmax')\n",
    "])\n",
    "\n",
    "model.compile(optimizer=Adam(learning_rate=1e-4), loss='categorical_crossentropy', metrics=['accuracy'])"
   ]
  },
  {
   "cell_type": "code",
   "execution_count": null,
   "metadata": {},
   "outputs": [],
   "source": [
    "# Model training\n",
    "history = model.fit(train_generator, epochs=30, validation_data=validation_generator)"
   ]
  },
  {
   "cell_type": "code",
   "execution_count": null,
   "metadata": {},
   "outputs": [],
   "source": [
    "# Unfreeze some layers in the base model and fine-tune\n",
    "base_model.trainable = True\n",
    "for layer in base_model.layers[:15]:\n",
    "    layer.trainable = False\n",
    "\n",
    "model.compile(optimizer=Adam(learning_rate=1e-5), loss='categorical_crossentropy', metrics=['accuracy'])\n",
    "history_fine = model.fit(train_generator, epochs=10, validation_data=validation_generator)"
   ]
  },
  {
   "cell_type": "code",
   "execution_count": null,
   "metadata": {},
   "outputs": [],
   "source": [
    "\n",
    "\n",
    "# Model evaluation\n",
    "loss, accuracy = model.evaluate(test_generator)\n",
    "print(f\"Test Accuracy: {accuracy*100:.2f}%\")\n",
    "\n"
   ]
  },
  {
   "cell_type": "code",
   "execution_count": null,
   "metadata": {},
   "outputs": [],
   "source": [
    "# Classification report and confusion matrix\n",
    "Y_pred = model.predict(test_generator)\n",
    "y_pred = np.argmax(Y_pred, axis=1)\n",
    "\n",
    "print('Classification Report')\n",
    "print(classification_report(test_generator.classes, y_pred, target_names=test_generator.class_indices.keys()))\n",
    "\n",
    "# Create confusion matrix\n",
    "cm = confusion_matrix(test_generator.classes, y_pred)\n",
    "\n",
    "# Plot confusion matrix with annotations\n",
    "cm_fig = px.imshow(cm, labels=dict(x=\"Predicted\", y=\"True\", color=\"Count\"), x=list(test_generator.class_indices.keys()), y=list(test_generator.class_indices.keys()), text_auto=True)\n",
    "cm_fig.update_layout(title=\"Confusion Matrix\")\n",
    "cm_fig.show()"
   ]
  },
  {
   "cell_type": "code",
   "execution_count": null,
   "metadata": {},
   "outputs": [],
   "source": [
    "# Plot training history\n",
    "fig = go.Figure()\n",
    "fig.add_trace(go.Scatter(y=history.history['accuracy'], mode='lines', name='Train Accuracy'))\n",
    "fig.add_trace(go.Scatter(y=history.history['val_accuracy'], mode='lines', name='Validation Accuracy'))\n",
    "fig.update_layout(title='Model Accuracy', xaxis=dict(title='Epoch'), yaxis=dict(title='Accuracy'))\n",
    "fig.show()\n",
    "\n",
    "fig = go.Figure()\n",
    "fig.add_trace(go.Scatter(y=history.history['loss'], mode='lines', name='Train Loss'))\n",
    "fig.add_trace(go.Scatter(y=history.history['val_loss'], mode='lines', name='Validation Loss'))\n",
    "fig.update_layout(title='Model Loss', xaxis=dict(title='Epoch'), yaxis=dict(title='Loss'))\n",
    "fig.show()\n",
    "\n",
    "fig_fine = go.Figure()\n",
    "fig_fine.add_trace(go.Scatter(y=history_fine.history['accuracy'], mode='lines', name='Fine-tune Train Accuracy'))\n",
    "fig_fine.add_trace(go.Scatter(y=history_fine.history['val_accuracy'], mode='lines', name='Fine-tune Validation Accuracy'))\n",
    "fig_fine.update_layout(title='Fine-tuning Model Accuracy', xaxis=dict(title='Epoch'), yaxis=dict(title='Accuracy'))\n",
    "fig_fine.show()\n",
    "\n",
    "fig_fine_loss = go.Figure()\n",
    "fig_fine_loss.add_trace(go.Scatter(y=history_fine.history['loss'], mode='lines', name='Fine-tune Train Loss'))\n",
    "fig_fine_loss.add_trace(go.Scatter(y=history_fine.history['val_loss'], mode='lines', name='Fine-tune Validation Loss'))\n",
    "fig_fine_loss.update_layout(title='Fine-tuning Model Loss', xaxis=dict(title='Epoch'), yaxis=dict(title='Loss'))\n",
    "fig_fine_loss.show()\n",
    "\n"
   ]
  },
  {
   "cell_type": "code",
   "execution_count": null,
   "metadata": {},
   "outputs": [],
   "source": [
    "# Display some predictions\n",
    "def display_predictions(generator, model, num_images=10):\n",
    "    images, labels = next(generator)\n",
    "    predictions = model.predict(images)\n",
    "    fig, axes = plt.subplots(1, num_images, figsize=(20, 20))\n",
    "    for i in range(num_images):\n",
    "        ax = axes[i]\n",
    "        ax.imshow(images[i])\n",
    "        true_label = list(generator.class_indices.keys())[np.argmax(labels[i])]\n",
    "        pred_label = list(generator.class_indices.keys())[np.argmax(predictions[i])]\n",
    "        ax.set_title(f\"True: {true_label}\\nPred: {pred_label}\")\n",
    "        ax.axis('off')\n",
    "    plt.show()\n",
    "\n",
    "display_predictions(test_generator, model)"
   ]
  },
  {
   "cell_type": "code",
   "execution_count": null,
   "metadata": {},
   "outputs": [],
   "source": [
    "# Save the model\n",
    "model.save('/kaggle/working/fruit_veg_classifier.h5')"
   ]
  },
  {
   "cell_type": "markdown",
   "metadata": {},
   "source": [
    "# push to huggung face"
   ]
  },
  {
   "cell_type": "code",
   "execution_count": null,
   "metadata": {},
   "outputs": [],
   "source": [
    "notebook_login()"
   ]
  },
  {
   "cell_type": "code",
   "execution_count": null,
   "metadata": {},
   "outputs": [],
   "source": [
    "model_id = \"ZorigClassify\" #@param {type:\"string\"}\n",
    "\n",
    "description = \"\"\"\n",
    "A model to classify the image into the thirteen arts and craft of Bhutan.\n",
    "credit: @nateraw\n",
    "\"\"\"\n",
    "task_name = \"Image Classification\"\n",
    "task_type = 'image-classification'\n",
    "metric_name = 'Accuracy'\n",
    "metric_type = 'accuracy'\n",
    "metric_value = trainer.callback_metrics['val_acc'].item()\n",
    "\n",
    "# Delete model folder, as we (re)create it here.\n",
    "if Path('./model').exists():\n",
    "    shutil.rmtree('./model')\n",
    "\n",
    "token = HfFolder().get_token()\n",
    "if not token:\n",
    "    raise RuntimeError(\"You must log in to push to hub! Run notebook_login() in the cell above.\")\n",
    "\n",
    "hf_username = HfApi().whoami()['name']\n",
    "model_url = HfApi().create_repo(token=token, repo_id=model_id, exist_ok=True)\n",
    "model_repo = Repository(\"./model\", clone_from=model_url, use_auth_token=token, git_email=f\"{hf_username}@users.noreply.huggingface.co\", git_user=hf_username)\n",
    "model.save_pretrained(model_repo.local_dir)\n",
    "feature_extractor.save_pretrained(model_repo.local_dir)\n",
    "\n",
    "# Copy over tensorboard logs from lightning_logs/ into ./model/runs/\n",
    "tensorboard_logs_path = next(Path(trainer.logger.log_dir).glob('events.out*'))\n",
    "model_repo_logs_path = Path(model_repo.local_dir) / 'runs'\n",
    "model_repo_logs_path.mkdir(exist_ok=True, parents=True)\n",
    "shutil.copy(tensorboard_logs_path, model_repo_logs_path)\n",
    "\n",
    "# Copy over a few example images\n",
    "example_images_dir = Path(model_repo.local_dir) / 'images'\n",
    "example_images_dir.mkdir(exist_ok=True, parents=True)\n",
    "image_markdown_template = '''\n",
    "#### {class_name}\n",
    "\n",
    "![{class_name}](images/{example_image_path})\n",
    "'''\n",
    "example_images_markdown = \"\"\n",
    "for class_idx, class_name in enumerate(ds.classes):\n",
    "    folder = ds.root / class_name\n",
    "    image_path = sorted(folder.glob('*'))[0]\n",
    "    example_image_path = example_images_dir / f\"{class_name.replace(' ', '_')}{image_path.suffix}\"\n",
    "    shutil.copy(image_path, example_image_path)\n",
    "    example_images_markdown += image_markdown_template.format(\n",
    "        class_name=class_name,\n",
    "        example_image_path=example_image_path.name\n",
    "    )\n",
    "\n",
    "\n",
    "# Prepare README.md from information gathered above\n",
    "readme_txt = f\"\"\"\n",
    "---\n",
    "tags:\n",
    "- image-classification\n",
    "- pytorch\n",
    "- huggingpics\n",
    "metrics:\n",
    "- {metric_type}\n",
    "\n",
    "model-index:\n",
    "- name: {model_id}\n",
    "  results:\n",
    "  - task:\n",
    "      name: {task_name}\n",
    "      type: {task_type}\n",
    "    metrics:\n",
    "      - name: {metric_name}\n",
    "        type: {metric_type}\n",
    "        value: {metric_value}\n",
    "---\n",
    "\n",
    "# {model_id}\n",
    "\n",
    "{description}\n",
    "\n",
    "## Example Images\n",
    "\n",
    "{example_images_markdown}\n",
    "\n",
    "\"\"\".strip()\n",
    "\n",
    "(Path(model_repo.local_dir) / 'README.md').write_text(readme_txt)\n",
    "\n",
    "commit_url = model_repo.push_to_hub()\n",
    "\n",
    "print(\"Check out your model at:\")\n",
    "print(f\"https://huggingface.co/{hf_username}/{model_id}\")"
   ]
  }
 ],
 "metadata": {
  "kernelspec": {
   "display_name": "base",
   "language": "python",
   "name": "python3"
  },
  "language_info": {
   "codemirror_mode": {
    "name": "ipython",
    "version": 3
   },
   "file_extension": ".py",
   "mimetype": "text/x-python",
   "name": "python",
   "nbconvert_exporter": "python",
   "pygments_lexer": "ipython3",
   "version": "3.12.7"
  }
 },
 "nbformat": 4,
 "nbformat_minor": 2
}
